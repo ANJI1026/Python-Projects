{
 "cells": [
  {
   "cell_type": "code",
   "execution_count": 1,
   "id": "9773bdf0",
   "metadata": {
    "_cell_guid": "b1076dfc-b9ad-4769-8c92-a6c4dae69d19",
    "_uuid": "8f2839f25d086af736a60e9eeb907d3b93b6e0e5",
    "execution": {
     "iopub.execute_input": "2024-08-15T20:48:58.716619Z",
     "iopub.status.busy": "2024-08-15T20:48:58.716280Z",
     "iopub.status.idle": "2024-08-15T20:48:59.450623Z",
     "shell.execute_reply": "2024-08-15T20:48:59.448346Z"
    },
    "papermill": {
     "duration": 0.743142,
     "end_time": "2024-08-15T20:48:59.452954",
     "exception": false,
     "start_time": "2024-08-15T20:48:58.709812",
     "status": "completed"
    },
    "tags": []
   },
   "outputs": [],
   "source": [
    "# This Python 3 environment comes with many helpful analytics libraries installed\n",
    "# It is defined by the kaggle/python Docker image: https://github.com/kaggle/docker-python\n",
    "# For example, here's several helpful packages to load\n",
    "\n",
    "import numpy as np # linear algebra\n",
    "import pandas as pd # data processing, CSV file I/O (e.g. pd.read_csv)\n",
    "\n",
    "# Input data files are available in the read-only \"../input/\" directory\n",
    "# For example, running this (by clicking run or pressing Shift+Enter) will list all files under the input directory\n",
    "\n",
    "import os\n",
    "# for dirname, _, filenames in os.walk('/kaggle/input'):\n",
    "#     for filename in filenames:\n",
    "#         print(os.path.join(dirname, filename))\n",
    "\n",
    "# You can write up to 20GB to the current directory (/kaggle/working/) that gets preserved as output when you create a version using \"Save & Run All\" \n",
    "# You can also write temporary files to /kaggle/temp/, but they won't be saved outside of the current session"
   ]
  },
  {
   "cell_type": "code",
   "execution_count": 2,
   "id": "e16ea90a",
   "metadata": {
    "execution": {
     "iopub.execute_input": "2024-08-15T20:48:59.463935Z",
     "iopub.status.busy": "2024-08-15T20:48:59.463191Z",
     "iopub.status.idle": "2024-08-15T20:49:04.845210Z",
     "shell.execute_reply": "2024-08-15T20:49:04.844236Z"
    },
    "papermill": {
     "duration": 5.38972,
     "end_time": "2024-08-15T20:49:04.847607",
     "exception": false,
     "start_time": "2024-08-15T20:48:59.457887",
     "status": "completed"
    },
    "tags": []
   },
   "outputs": [],
   "source": [
    "#Self comments:\n",
    "#We will import all the required packages in this cell\n",
    "import torch\n",
    "import torchaudio\n",
    "from torch.utils.data import Dataset,DataLoader\n",
    "import torch.nn as nn \n",
    "from sklearn import model_selection\n",
    "from torchinfo import summary\n",
    "from tqdm import tqdm\n",
    "import matplotlib.pyplot as plt\n"
   ]
  },
  {
   "cell_type": "code",
   "execution_count": 3,
   "id": "5ecded1a",
   "metadata": {
    "execution": {
     "iopub.execute_input": "2024-08-15T20:49:04.858781Z",
     "iopub.status.busy": "2024-08-15T20:49:04.857933Z",
     "iopub.status.idle": "2024-08-15T20:49:04.899902Z",
     "shell.execute_reply": "2024-08-15T20:49:04.898959Z"
    },
    "papermill": {
     "duration": 0.049795,
     "end_time": "2024-08-15T20:49:04.902210",
     "exception": false,
     "start_time": "2024-08-15T20:49:04.852415",
     "status": "completed"
    },
    "tags": []
   },
   "outputs": [],
   "source": [
    "df = pd.read_csv('/kaggle/input/urbansound8k/UrbanSound8K.csv')\n",
    "# df.head(5)"
   ]
  },
  {
   "cell_type": "code",
   "execution_count": 4,
   "id": "a85ad4a3",
   "metadata": {
    "execution": {
     "iopub.execute_input": "2024-08-15T20:49:04.913317Z",
     "iopub.status.busy": "2024-08-15T20:49:04.912724Z",
     "iopub.status.idle": "2024-08-15T20:49:05.032697Z",
     "shell.execute_reply": "2024-08-15T20:49:05.031793Z"
    },
    "papermill": {
     "duration": 0.127692,
     "end_time": "2024-08-15T20:49:05.034801",
     "exception": false,
     "start_time": "2024-08-15T20:49:04.907109",
     "status": "completed"
    },
    "tags": []
   },
   "outputs": [
    {
     "name": "stdout",
     "output_type": "stream",
     "text": [
      "torch.Size([2, 176400])\n"
     ]
    }
   ],
   "source": [
    "wave = torchaudio.load('/kaggle/input/urbansound8k/fold4/107653-9-0-18.wav')\n",
    "# plt.plot(wave[0].t().numpy())\n",
    "print(wave[0].shape)"
   ]
  },
  {
   "cell_type": "code",
   "execution_count": 5,
   "id": "201a297d",
   "metadata": {
    "execution": {
     "iopub.execute_input": "2024-08-15T20:49:05.045557Z",
     "iopub.status.busy": "2024-08-15T20:49:05.045009Z",
     "iopub.status.idle": "2024-08-15T20:49:05.053399Z",
     "shell.execute_reply": "2024-08-15T20:49:05.052563Z"
    },
    "papermill": {
     "duration": 0.015688,
     "end_time": "2024-08-15T20:49:05.055277",
     "exception": false,
     "start_time": "2024-08-15T20:49:05.039589",
     "status": "completed"
    },
    "tags": []
   },
   "outputs": [],
   "source": [
    "class MyDataset:\n",
    "    def __init__(self,audio_csv,Id):          \n",
    "        self.audio_csv = audio_csv          \n",
    "        self.Id = Id       \n",
    "        \n",
    "    def __len__(self):\n",
    "        return len(self.audio_csv)\n",
    "    \n",
    "    def __getitem__(self,index):\n",
    "        path = self.audio_csv[index]\n",
    "        wave, sampling_rate = torchaudio.load(path)\n",
    "        mono_audio = torch.mean(wave, dim=0, keepdim=True)\n",
    "        tempData = torch.zeros([1,160000])\n",
    "        if mono_audio.numel() < 160000:\n",
    "            tempData[:,:mono_audio.numel()] = mono_audio\n",
    "        else:\n",
    "            tempData[:,:160000]\n",
    "        mono_audio = tempData\n",
    "        \n",
    "        mfcc = torchaudio.transforms.MFCC(sample_rate=sampling_rate)(mono_audio) #channels,n_mffcs,time\n",
    "        mfcc_norm = (mfcc - mfcc.mean())/ (mfcc.std())\n",
    "        return {\n",
    "            \"mfcc\" : torch.tensor(mfcc_norm, dtype=torch.float),\n",
    "            \"label\" : torch.tensor(self.Id[index], dtype=torch.long)\n",
    "        }"
   ]
  },
  {
   "cell_type": "code",
   "execution_count": 6,
   "id": "4d01ee06",
   "metadata": {
    "execution": {
     "iopub.execute_input": "2024-08-15T20:49:05.065722Z",
     "iopub.status.busy": "2024-08-15T20:49:05.065245Z",
     "iopub.status.idle": "2024-08-15T20:49:05.128122Z",
     "shell.execute_reply": "2024-08-15T20:49:05.127249Z"
    },
    "papermill": {
     "duration": 0.070044,
     "end_time": "2024-08-15T20:49:05.129969",
     "exception": false,
     "start_time": "2024-08-15T20:49:05.059925",
     "status": "completed"
    },
    "tags": []
   },
   "outputs": [],
   "source": [
    "device = torch.device(\"cuda\" if torch.cuda.is_available() else \"cpu\")"
   ]
  },
  {
   "cell_type": "code",
   "execution_count": 7,
   "id": "1cd22999",
   "metadata": {
    "execution": {
     "iopub.execute_input": "2024-08-15T20:49:05.140726Z",
     "iopub.status.busy": "2024-08-15T20:49:05.140065Z",
     "iopub.status.idle": "2024-08-15T20:49:05.145733Z",
     "shell.execute_reply": "2024-08-15T20:49:05.144955Z"
    },
    "papermill": {
     "duration": 0.012926,
     "end_time": "2024-08-15T20:49:05.147526",
     "exception": false,
     "start_time": "2024-08-15T20:49:05.134600",
     "status": "completed"
    },
    "tags": []
   },
   "outputs": [],
   "source": [
    "def collate_fn(data):\n",
    "    mfccs = []\n",
    "    labels = []\n",
    "    for d in data:\n",
    "        mfcc = d[\"mfcc\"].to(device)\n",
    "        label = d[\"label\"].to(device)\n",
    "        mfccs.append(mfcc)\n",
    "        labels.append(label)\n",
    "    \n",
    "    mfcc = torch.nn.utils.rnn.pad_sequence(mfccs, batch_first = True, padding_value=0.0)\n",
    "    labels = torch.tensor(labels)\n",
    "#     print(mfcc.shape)  [128,1,40,801] batch,channel,time,value\n",
    "    return mfcc, labels"
   ]
  },
  {
   "cell_type": "code",
   "execution_count": 8,
   "id": "3e90cab6",
   "metadata": {
    "execution": {
     "iopub.execute_input": "2024-08-15T20:49:05.158838Z",
     "iopub.status.busy": "2024-08-15T20:49:05.158220Z",
     "iopub.status.idle": "2024-08-15T20:49:05.214910Z",
     "shell.execute_reply": "2024-08-15T20:49:05.214204Z"
    },
    "papermill": {
     "duration": 0.064933,
     "end_time": "2024-08-15T20:49:05.216976",
     "exception": false,
     "start_time": "2024-08-15T20:49:05.152043",
     "status": "completed"
    },
    "tags": []
   },
   "outputs": [],
   "source": [
    "# /kaggle/input/urbansound8k/fold4/107653-9-0-12.wav\n",
    "FILE_PATH = \"/kaggle/input/urbansound8k/\"\n",
    "\n",
    "if __name__ == \"__main__\":\n",
    "    df = pd.read_csv(\"/kaggle/input/urbansound8k/UrbanSound8K.csv\")\n",
    "    files = df[\"slice_file_name\"].values.tolist()\n",
    "    folder_fold = df[\"fold\"].values\n",
    "    label = df[\"classID\"].values.tolist()\n",
    "    path = [\n",
    "        os.path.join(FILE_PATH + \"fold\" + str(folder) + \"/\" + file) for folder, file in zip(folder_fold, files)\n",
    "    ]\n",
    "    X_train, X_test, y_train, y_test = model_selection.train_test_split(path, label, random_state=42, test_size=0.2)\n",
    "    \n",
    "    train_dataset = MyDataset(\n",
    "        audio_csv=X_train,\n",
    "        Id=y_train\n",
    "    )\n",
    "    \n",
    "    train_loader = torch.utils.data.DataLoader(\n",
    "        train_dataset, batch_size=64, shuffle=True, drop_last=True, collate_fn=collate_fn\n",
    "    )\n",
    "    \n",
    "    test_dataset = MyDataset(\n",
    "        audio_csv=X_test,\n",
    "        Id=y_test\n",
    "    )\n",
    "    \n",
    "    test_loader = torch.utils.data.DataLoader(\n",
    "        test_dataset, batch_size=64, shuffle=False, drop_last=True, collate_fn=collate_fn\n",
    "    )"
   ]
  },
  {
   "cell_type": "code",
   "execution_count": 9,
   "id": "8098f61b",
   "metadata": {
    "execution": {
     "iopub.execute_input": "2024-08-15T20:49:05.227535Z",
     "iopub.status.busy": "2024-08-15T20:49:05.227285Z",
     "iopub.status.idle": "2024-08-15T20:49:05.238442Z",
     "shell.execute_reply": "2024-08-15T20:49:05.237647Z"
    },
    "papermill": {
     "duration": 0.018786,
     "end_time": "2024-08-15T20:49:05.240556",
     "exception": false,
     "start_time": "2024-08-15T20:49:05.221770",
     "status": "completed"
    },
    "tags": []
   },
   "outputs": [],
   "source": [
    "class ModelLSTM(nn.Module):\n",
    "    def __init__(self, n_feature=5, out_feature=5, n_hidden=256, n_layers=2, drop_prob=0.3):\n",
    "        super().__init__()\n",
    "        self.drop_prob = drop_prob\n",
    "        self.n_layers = n_layers\n",
    "        self.n_hidden = n_hidden\n",
    "        self.n_feature = n_feature\n",
    "        self.lstm = nn.LSTM(self.n_feature, self.n_hidden, self.n_layers, dropout= self.drop_prob, batch_first=True)\n",
    "        self.dropout = nn.Dropout(drop_prob)\n",
    "        self.fc1 = nn.Linear(int(n_hidden), int(n_hidden/2))\n",
    "        self.bn1 = nn.BatchNorm1d(int(n_hidden/2))\n",
    "        self.fc2 = nn.Linear(int(n_hidden/2), out_feature)\n",
    "        self.relu = nn.ReLU()\n",
    "        \n",
    "    def forward(self, x, hidden):\n",
    "#         print(x.shape)\n",
    "        x=torch.squeeze(x,1)\n",
    "#         print(x.shape)\n",
    "        l_out, l_hidden = self.lstm(x, hidden)\n",
    "        out = self.fc1(l_out[:, -1, :])\n",
    "        out = self.bn1(out)\n",
    "        out = self.relu(out)\n",
    "        out = self.dropout(out)\n",
    "        out = self.fc2(out)\n",
    "\n",
    "        \n",
    "        return out, l_hidden\n",
    "    \n",
    "    def init_hidden(self, batch_size):\n",
    "        weight = next(self.parameters()).data\n",
    "        hidden = (weight.new(self.n_layers, batch_size, self.n_hidden).zero_().cuda(),\n",
    "                  weight.new(self.n_layers, batch_size, self.n_hidden).zero_().cuda())\n",
    "        \n",
    "        return hidden"
   ]
  },
  {
   "cell_type": "code",
   "execution_count": 10,
   "id": "0dc8cea1",
   "metadata": {
    "execution": {
     "iopub.execute_input": "2024-08-15T20:49:05.252617Z",
     "iopub.status.busy": "2024-08-15T20:49:05.252124Z",
     "iopub.status.idle": "2024-08-15T20:49:05.288470Z",
     "shell.execute_reply": "2024-08-15T20:49:05.287598Z"
    },
    "papermill": {
     "duration": 0.044568,
     "end_time": "2024-08-15T20:49:05.290414",
     "exception": false,
     "start_time": "2024-08-15T20:49:05.245846",
     "status": "completed"
    },
    "tags": []
   },
   "outputs": [
    {
     "data": {
      "text/plain": [
       "=================================================================\n",
       "Layer (type:depth-idx)                   Param #\n",
       "=================================================================\n",
       "ModelLSTM                                --\n",
       "├─LSTM: 1-1                              795,648\n",
       "├─Dropout: 1-2                           --\n",
       "├─Linear: 1-3                            32,896\n",
       "├─BatchNorm1d: 1-4                       256\n",
       "├─Linear: 1-5                            645\n",
       "├─ReLU: 1-6                              --\n",
       "=================================================================\n",
       "Total params: 829,445\n",
       "Trainable params: 829,445\n",
       "Non-trainable params: 0\n",
       "================================================================="
      ]
     },
     "execution_count": 10,
     "metadata": {},
     "output_type": "execute_result"
    }
   ],
   "source": [
    "summary(ModelLSTM())\n"
   ]
  },
  {
   "cell_type": "code",
   "execution_count": 11,
   "id": "a577338f",
   "metadata": {
    "execution": {
     "iopub.execute_input": "2024-08-15T20:49:05.301993Z",
     "iopub.status.busy": "2024-08-15T20:49:05.301298Z",
     "iopub.status.idle": "2024-08-15T20:49:05.310785Z",
     "shell.execute_reply": "2024-08-15T20:49:05.309959Z"
    },
    "papermill": {
     "duration": 0.016995,
     "end_time": "2024-08-15T20:49:05.312570",
     "exception": false,
     "start_time": "2024-08-15T20:49:05.295575",
     "status": "completed"
    },
    "tags": []
   },
   "outputs": [],
   "source": [
    "def train(data_loader, model, epoch, optimizer, device):\n",
    "    losses = []\n",
    "    accuracies = []\n",
    "    labels = []\n",
    "    preds = []\n",
    "    model.train()\n",
    "    loop = tqdm(data_loader)\n",
    "    for batch_idx, (data, target) in enumerate(loop):\n",
    "        data = data.to(device)\n",
    "        target = target.to(device)\n",
    "        optimizer.zero_grad() \n",
    "        output, hidden_state = model(data, model.init_hidden(64))\n",
    "        loss = nn.CrossEntropyLoss()(output, target)\n",
    "        loss.backward()\n",
    "        optimizer.step()\n",
    "        losses.append(loss.item())\n",
    "        probs = torch.softmax(output, dim=1)\n",
    "        winners = probs.argmax(dim=1)\n",
    "        corrects = (winners == target)\n",
    "        accuracy = corrects.sum().float() / float(target.size(0))\n",
    "        accuracies.append(accuracy)\n",
    "        labels += torch.flatten(target).cpu()\n",
    "        preds += torch.flatten(winners).cpu()\n",
    "        loop.set_description(f\"EPOCH: {epoch+1} | ITERATION : {batch_idx}/{len(data_loader)} | LOSS: {loss.item()}| ACCURACY: {accuracy}\")\n",
    "        loop.set_postfix(loss=loss.item())\n",
    "    \n",
    "    avg_train_loss = sum(losses) / len(losses)\n",
    "    avg_train_accuracy = (sum(accuracies) / len(accuracies))*100\n",
    "    print(f\"Average Train Loss: {avg_train_loss:.4f}, Average Train Accuracy: {avg_train_accuracy:.2f}%\")\n",
    "    return avg_train_loss, avg_train_accuracy"
   ]
  },
  {
   "cell_type": "code",
   "execution_count": 12,
   "id": "d5db4697",
   "metadata": {
    "execution": {
     "iopub.execute_input": "2024-08-15T20:49:05.323731Z",
     "iopub.status.busy": "2024-08-15T20:49:05.323235Z",
     "iopub.status.idle": "2024-08-15T20:49:05.331869Z",
     "shell.execute_reply": "2024-08-15T20:49:05.331042Z"
    },
    "papermill": {
     "duration": 0.01649,
     "end_time": "2024-08-15T20:49:05.333949",
     "exception": false,
     "start_time": "2024-08-15T20:49:05.317459",
     "status": "completed"
    },
    "tags": []
   },
   "outputs": [],
   "source": [
    "def test(data_loader, model, device):\n",
    "    model.eval()\n",
    "    accs = []\n",
    "    preds = []\n",
    "    labels = []\n",
    "    test_accuracies = []\n",
    "    with torch.no_grad():\n",
    "        loop = tqdm(data_loader) \n",
    "        for batch_idx, (data, target) in enumerate(loop):\n",
    "            data = data.to(device)\n",
    "            target = target.to(device)\n",
    "            output, hidden_state = model(data, model.init_hidden(64))\n",
    "            probs = torch.softmax(output, dim=1)\n",
    "            winners = probs.argmax(dim=1)\n",
    "            corrects = (winners == target)\n",
    "            accuracy = corrects.sum().float() / float(target.size(0))\n",
    "            \n",
    "            test_accuracies.append(accuracy)\n",
    "            labels += torch.flatten(target).cpu()\n",
    "            preds += torch.flatten(winners).cpu()\n",
    "            \n",
    "    avg_test_acc = (sum(test_accuracies) / len(test_accuracies))*100\n",
    "    print(f\"Average Test Accuracy: {avg_test_acc:.2f}%\")\n",
    "\n",
    "    return avg_test_acc"
   ]
  },
  {
   "cell_type": "code",
   "execution_count": 13,
   "id": "5f662ebe",
   "metadata": {
    "execution": {
     "iopub.execute_input": "2024-08-15T20:49:05.346002Z",
     "iopub.status.busy": "2024-08-15T20:49:05.345714Z",
     "iopub.status.idle": "2024-08-15T20:49:05.349647Z",
     "shell.execute_reply": "2024-08-15T20:49:05.348805Z"
    },
    "papermill": {
     "duration": 0.012452,
     "end_time": "2024-08-15T20:49:05.351806",
     "exception": false,
     "start_time": "2024-08-15T20:49:05.339354",
     "status": "completed"
    },
    "tags": []
   },
   "outputs": [],
   "source": [
    "EPOCH = 50\n",
    "OUT_FEATURE = 10\n",
    "SAVE_PATH = \"/kaggle/working/\""
   ]
  },
  {
   "cell_type": "code",
   "execution_count": 14,
   "id": "99210e13",
   "metadata": {
    "execution": {
     "iopub.execute_input": "2024-08-15T20:49:05.362229Z",
     "iopub.status.busy": "2024-08-15T20:49:05.361789Z",
     "iopub.status.idle": "2024-08-15T22:55:23.895672Z",
     "shell.execute_reply": "2024-08-15T22:55:23.894763Z"
    },
    "papermill": {
     "duration": 7578.542027,
     "end_time": "2024-08-15T22:55:23.898536",
     "exception": false,
     "start_time": "2024-08-15T20:49:05.356509",
     "status": "completed"
    },
    "tags": []
   },
   "outputs": [
    {
     "name": "stderr",
     "output_type": "stream",
     "text": [
      "  0%|          | 0/109 [00:00<?, ?it/s]/opt/conda/lib/python3.10/site-packages/torchaudio/functional/functional.py:584: UserWarning: At least one mel filterbank has all zero values. The value for `n_mels` (128) may be set too high. Or, the value for `n_freqs` (201) may be set too low.\n",
      "  warnings.warn(\n",
      "/tmp/ipykernel_23/1068264031.py:23: UserWarning: To copy construct from a tensor, it is recommended to use sourceTensor.clone().detach() or sourceTensor.clone().detach().requires_grad_(True), rather than torch.tensor(sourceTensor).\n",
      "  \"mfcc\" : torch.tensor(mfcc_norm, dtype=torch.float),\n",
      "EPOCH: 1 | ITERATION : 108/109 | LOSS: 2.216891288757324| ACCURACY: 0.15625: 100%|██████████| 109/109 [03:35<00:00,  1.98s/it, loss=2.22]\n"
     ]
    },
    {
     "name": "stdout",
     "output_type": "stream",
     "text": [
      "Average Train Loss: 2.2582, Average Train Accuracy: 13.33%\n"
     ]
    },
    {
     "name": "stderr",
     "output_type": "stream",
     "text": [
      "100%|██████████| 27/27 [00:57<00:00,  2.12s/it]\n"
     ]
    },
    {
     "name": "stdout",
     "output_type": "stream",
     "text": [
      "Average Test Accuracy: 10.42%\n",
      "Model saved as /kaggle/working/ep-1-loss-2.258-acc-13.33.pth\n",
      "-------------------------------------------\n"
     ]
    },
    {
     "name": "stderr",
     "output_type": "stream",
     "text": [
      "EPOCH: 2 | ITERATION : 108/109 | LOSS: 2.1915013790130615| ACCURACY: 0.140625: 100%|██████████| 109/109 [02:02<00:00,  1.12s/it, loss=2.19]\n"
     ]
    },
    {
     "name": "stdout",
     "output_type": "stream",
     "text": [
      "Average Train Loss: 2.1589, Average Train Accuracy: 14.94%\n"
     ]
    },
    {
     "name": "stderr",
     "output_type": "stream",
     "text": [
      "100%|██████████| 27/27 [00:30<00:00,  1.11s/it]\n"
     ]
    },
    {
     "name": "stdout",
     "output_type": "stream",
     "text": [
      "Average Test Accuracy: 17.07%\n",
      "Model saved as /kaggle/working/ep-2-loss-2.159-acc-14.94.pth\n",
      "-------------------------------------------\n"
     ]
    },
    {
     "name": "stderr",
     "output_type": "stream",
     "text": [
      "EPOCH: 3 | ITERATION : 108/109 | LOSS: 2.0531065464019775| ACCURACY: 0.140625: 100%|██████████| 109/109 [01:57<00:00,  1.08s/it, loss=2.05]\n"
     ]
    },
    {
     "name": "stdout",
     "output_type": "stream",
     "text": [
      "Average Train Loss: 2.1206, Average Train Accuracy: 15.75%\n"
     ]
    },
    {
     "name": "stderr",
     "output_type": "stream",
     "text": [
      "100%|██████████| 27/27 [00:28<00:00,  1.06s/it]\n"
     ]
    },
    {
     "name": "stdout",
     "output_type": "stream",
     "text": [
      "Average Test Accuracy: 15.34%\n",
      "Model saved as /kaggle/working/ep-3-loss-2.121-acc-15.75.pth\n",
      "-------------------------------------------\n"
     ]
    },
    {
     "name": "stderr",
     "output_type": "stream",
     "text": [
      "EPOCH: 4 | ITERATION : 108/109 | LOSS: 2.1405153274536133| ACCURACY: 0.1875: 100%|██████████| 109/109 [01:55<00:00,  1.06s/it, loss=2.14]\n"
     ]
    },
    {
     "name": "stdout",
     "output_type": "stream",
     "text": [
      "Average Train Loss: 2.0990, Average Train Accuracy: 17.02%\n"
     ]
    },
    {
     "name": "stderr",
     "output_type": "stream",
     "text": [
      "100%|██████████| 27/27 [00:28<00:00,  1.07s/it]\n"
     ]
    },
    {
     "name": "stdout",
     "output_type": "stream",
     "text": [
      "Average Test Accuracy: 17.25%\n",
      "Model saved as /kaggle/working/ep-4-loss-2.099-acc-17.02.pth\n",
      "-------------------------------------------\n"
     ]
    },
    {
     "name": "stderr",
     "output_type": "stream",
     "text": [
      "EPOCH: 5 | ITERATION : 108/109 | LOSS: 1.984584927558899| ACCURACY: 0.265625: 100%|██████████| 109/109 [01:57<00:00,  1.07s/it, loss=1.98]\n"
     ]
    },
    {
     "name": "stdout",
     "output_type": "stream",
     "text": [
      "Average Train Loss: 2.0803, Average Train Accuracy: 17.17%\n"
     ]
    },
    {
     "name": "stderr",
     "output_type": "stream",
     "text": [
      "100%|██████████| 27/27 [00:28<00:00,  1.06s/it]\n"
     ]
    },
    {
     "name": "stdout",
     "output_type": "stream",
     "text": [
      "Average Test Accuracy: 17.48%\n",
      "Model saved as /kaggle/working/ep-5-loss-2.080-acc-17.17.pth\n",
      "-------------------------------------------\n"
     ]
    },
    {
     "name": "stderr",
     "output_type": "stream",
     "text": [
      "EPOCH: 6 | ITERATION : 108/109 | LOSS: 1.975654125213623| ACCURACY: 0.1875: 100%|██████████| 109/109 [01:55<00:00,  1.06s/it, loss=1.98]\n"
     ]
    },
    {
     "name": "stdout",
     "output_type": "stream",
     "text": [
      "Average Train Loss: 2.0598, Average Train Accuracy: 17.79%\n"
     ]
    },
    {
     "name": "stderr",
     "output_type": "stream",
     "text": [
      "100%|██████████| 27/27 [00:28<00:00,  1.06s/it]\n"
     ]
    },
    {
     "name": "stdout",
     "output_type": "stream",
     "text": [
      "Average Test Accuracy: 16.67%\n",
      "Model saved as /kaggle/working/ep-6-loss-2.060-acc-17.79.pth\n",
      "-------------------------------------------\n"
     ]
    },
    {
     "name": "stderr",
     "output_type": "stream",
     "text": [
      "EPOCH: 7 | ITERATION : 108/109 | LOSS: 1.9031962156295776| ACCURACY: 0.265625: 100%|██████████| 109/109 [01:56<00:00,  1.07s/it, loss=1.9]\n"
     ]
    },
    {
     "name": "stdout",
     "output_type": "stream",
     "text": [
      "Average Train Loss: 2.0399, Average Train Accuracy: 19.32%\n"
     ]
    },
    {
     "name": "stderr",
     "output_type": "stream",
     "text": [
      "100%|██████████| 27/27 [00:29<00:00,  1.08s/it]\n"
     ]
    },
    {
     "name": "stdout",
     "output_type": "stream",
     "text": [
      "Average Test Accuracy: 20.95%\n",
      "Model saved as /kaggle/working/ep-7-loss-2.040-acc-19.32.pth\n",
      "-------------------------------------------\n"
     ]
    },
    {
     "name": "stderr",
     "output_type": "stream",
     "text": [
      "EPOCH: 8 | ITERATION : 108/109 | LOSS: 1.9232921600341797| ACCURACY: 0.265625: 100%|██████████| 109/109 [01:58<00:00,  1.08s/it, loss=1.92]\n"
     ]
    },
    {
     "name": "stdout",
     "output_type": "stream",
     "text": [
      "Average Train Loss: 2.0169, Average Train Accuracy: 20.47%\n"
     ]
    },
    {
     "name": "stderr",
     "output_type": "stream",
     "text": [
      "100%|██████████| 27/27 [00:28<00:00,  1.06s/it]\n"
     ]
    },
    {
     "name": "stdout",
     "output_type": "stream",
     "text": [
      "Average Test Accuracy: 18.52%\n",
      "Model saved as /kaggle/working/ep-8-loss-2.017-acc-20.47.pth\n",
      "-------------------------------------------\n"
     ]
    },
    {
     "name": "stderr",
     "output_type": "stream",
     "text": [
      "EPOCH: 9 | ITERATION : 108/109 | LOSS: 2.125962972640991| ACCURACY: 0.125: 100%|██████████| 109/109 [01:57<00:00,  1.07s/it, loss=2.13]\n"
     ]
    },
    {
     "name": "stdout",
     "output_type": "stream",
     "text": [
      "Average Train Loss: 2.0063, Average Train Accuracy: 20.31%\n"
     ]
    },
    {
     "name": "stderr",
     "output_type": "stream",
     "text": [
      "100%|██████████| 27/27 [00:29<00:00,  1.09s/it]\n"
     ]
    },
    {
     "name": "stdout",
     "output_type": "stream",
     "text": [
      "Average Test Accuracy: 19.39%\n",
      "Model saved as /kaggle/working/ep-9-loss-2.006-acc-20.31.pth\n",
      "-------------------------------------------\n"
     ]
    },
    {
     "name": "stderr",
     "output_type": "stream",
     "text": [
      "EPOCH: 10 | ITERATION : 108/109 | LOSS: 2.1400327682495117| ACCURACY: 0.21875: 100%|██████████| 109/109 [01:56<00:00,  1.07s/it, loss=2.14]\n"
     ]
    },
    {
     "name": "stdout",
     "output_type": "stream",
     "text": [
      "Average Train Loss: 2.0032, Average Train Accuracy: 21.43%\n"
     ]
    },
    {
     "name": "stderr",
     "output_type": "stream",
     "text": [
      "100%|██████████| 27/27 [00:28<00:00,  1.05s/it]\n"
     ]
    },
    {
     "name": "stdout",
     "output_type": "stream",
     "text": [
      "Average Test Accuracy: 18.00%\n",
      "Model saved as /kaggle/working/ep-10-loss-2.003-acc-21.43.pth\n",
      "-------------------------------------------\n"
     ]
    },
    {
     "name": "stderr",
     "output_type": "stream",
     "text": [
      "EPOCH: 11 | ITERATION : 108/109 | LOSS: 2.0436017513275146| ACCURACY: 0.1875: 100%|██████████| 109/109 [01:55<00:00,  1.06s/it, loss=2.04]\n"
     ]
    },
    {
     "name": "stdout",
     "output_type": "stream",
     "text": [
      "Average Train Loss: 1.9752, Average Train Accuracy: 21.50%\n"
     ]
    },
    {
     "name": "stderr",
     "output_type": "stream",
     "text": [
      "100%|██████████| 27/27 [00:28<00:00,  1.06s/it]\n"
     ]
    },
    {
     "name": "stdout",
     "output_type": "stream",
     "text": [
      "Average Test Accuracy: 19.50%\n",
      "Model saved as /kaggle/working/ep-11-loss-1.975-acc-21.50.pth\n",
      "-------------------------------------------\n"
     ]
    },
    {
     "name": "stderr",
     "output_type": "stream",
     "text": [
      "EPOCH: 12 | ITERATION : 108/109 | LOSS: 2.0277745723724365| ACCURACY: 0.203125: 100%|██████████| 109/109 [01:55<00:00,  1.06s/it, loss=2.03]\n"
     ]
    },
    {
     "name": "stdout",
     "output_type": "stream",
     "text": [
      "Average Train Loss: 1.9710, Average Train Accuracy: 21.67%\n"
     ]
    },
    {
     "name": "stderr",
     "output_type": "stream",
     "text": [
      "100%|██████████| 27/27 [00:30<00:00,  1.13s/it]\n"
     ]
    },
    {
     "name": "stdout",
     "output_type": "stream",
     "text": [
      "Average Test Accuracy: 21.41%\n",
      "Model saved as /kaggle/working/ep-12-loss-1.971-acc-21.67.pth\n",
      "-------------------------------------------\n"
     ]
    },
    {
     "name": "stderr",
     "output_type": "stream",
     "text": [
      "EPOCH: 13 | ITERATION : 108/109 | LOSS: 2.1132116317749023| ACCURACY: 0.140625: 100%|██████████| 109/109 [01:58<00:00,  1.08s/it, loss=2.11]\n"
     ]
    },
    {
     "name": "stdout",
     "output_type": "stream",
     "text": [
      "Average Train Loss: 1.9534, Average Train Accuracy: 23.04%\n"
     ]
    },
    {
     "name": "stderr",
     "output_type": "stream",
     "text": [
      "100%|██████████| 27/27 [00:28<00:00,  1.05s/it]\n"
     ]
    },
    {
     "name": "stdout",
     "output_type": "stream",
     "text": [
      "Average Test Accuracy: 19.85%\n",
      "Model saved as /kaggle/working/ep-13-loss-1.953-acc-23.04.pth\n",
      "-------------------------------------------\n"
     ]
    },
    {
     "name": "stderr",
     "output_type": "stream",
     "text": [
      "EPOCH: 14 | ITERATION : 108/109 | LOSS: 1.9424054622650146| ACCURACY: 0.234375: 100%|██████████| 109/109 [02:00<00:00,  1.11s/it, loss=1.94]\n"
     ]
    },
    {
     "name": "stdout",
     "output_type": "stream",
     "text": [
      "Average Train Loss: 1.9430, Average Train Accuracy: 22.99%\n"
     ]
    },
    {
     "name": "stderr",
     "output_type": "stream",
     "text": [
      "100%|██████████| 27/27 [00:29<00:00,  1.08s/it]\n"
     ]
    },
    {
     "name": "stdout",
     "output_type": "stream",
     "text": [
      "Average Test Accuracy: 19.68%\n",
      "Model saved as /kaggle/working/ep-14-loss-1.943-acc-22.99.pth\n",
      "-------------------------------------------\n"
     ]
    },
    {
     "name": "stderr",
     "output_type": "stream",
     "text": [
      "EPOCH: 15 | ITERATION : 108/109 | LOSS: 1.9581776857376099| ACCURACY: 0.203125: 100%|██████████| 109/109 [01:55<00:00,  1.06s/it, loss=1.96]\n"
     ]
    },
    {
     "name": "stdout",
     "output_type": "stream",
     "text": [
      "Average Train Loss: 1.9293, Average Train Accuracy: 23.55%\n"
     ]
    },
    {
     "name": "stderr",
     "output_type": "stream",
     "text": [
      "100%|██████████| 27/27 [00:27<00:00,  1.04s/it]\n"
     ]
    },
    {
     "name": "stdout",
     "output_type": "stream",
     "text": [
      "Average Test Accuracy: 21.70%\n",
      "Model saved as /kaggle/working/ep-15-loss-1.929-acc-23.55.pth\n",
      "-------------------------------------------\n"
     ]
    },
    {
     "name": "stderr",
     "output_type": "stream",
     "text": [
      "EPOCH: 16 | ITERATION : 108/109 | LOSS: 2.0800623893737793| ACCURACY: 0.1875: 100%|██████████| 109/109 [01:54<00:00,  1.05s/it, loss=2.08]\n"
     ]
    },
    {
     "name": "stdout",
     "output_type": "stream",
     "text": [
      "Average Train Loss: 1.9264, Average Train Accuracy: 24.20%\n"
     ]
    },
    {
     "name": "stderr",
     "output_type": "stream",
     "text": [
      "100%|██████████| 27/27 [00:28<00:00,  1.05s/it]\n"
     ]
    },
    {
     "name": "stdout",
     "output_type": "stream",
     "text": [
      "Average Test Accuracy: 19.33%\n",
      "Model saved as /kaggle/working/ep-16-loss-1.926-acc-24.20.pth\n",
      "-------------------------------------------\n"
     ]
    },
    {
     "name": "stderr",
     "output_type": "stream",
     "text": [
      "EPOCH: 17 | ITERATION : 108/109 | LOSS: 2.056112766265869| ACCURACY: 0.21875: 100%|██████████| 109/109 [01:54<00:00,  1.05s/it, loss=2.06]\n"
     ]
    },
    {
     "name": "stdout",
     "output_type": "stream",
     "text": [
      "Average Train Loss: 1.9181, Average Train Accuracy: 23.57%\n"
     ]
    },
    {
     "name": "stderr",
     "output_type": "stream",
     "text": [
      "100%|██████████| 27/27 [00:28<00:00,  1.06s/it]\n"
     ]
    },
    {
     "name": "stdout",
     "output_type": "stream",
     "text": [
      "Average Test Accuracy: 20.08%\n",
      "Model saved as /kaggle/working/ep-17-loss-1.918-acc-23.57.pth\n",
      "-------------------------------------------\n"
     ]
    },
    {
     "name": "stderr",
     "output_type": "stream",
     "text": [
      "EPOCH: 18 | ITERATION : 108/109 | LOSS: 1.8157554864883423| ACCURACY: 0.25: 100%|██████████| 109/109 [01:54<00:00,  1.05s/it, loss=1.82]\n"
     ]
    },
    {
     "name": "stdout",
     "output_type": "stream",
     "text": [
      "Average Train Loss: 1.8969, Average Train Accuracy: 25.00%\n"
     ]
    },
    {
     "name": "stderr",
     "output_type": "stream",
     "text": [
      "100%|██████████| 27/27 [00:27<00:00,  1.03s/it]\n"
     ]
    },
    {
     "name": "stdout",
     "output_type": "stream",
     "text": [
      "Average Test Accuracy: 12.73%\n",
      "Model saved as /kaggle/working/ep-18-loss-1.897-acc-25.00.pth\n",
      "-------------------------------------------\n"
     ]
    },
    {
     "name": "stderr",
     "output_type": "stream",
     "text": [
      "EPOCH: 19 | ITERATION : 108/109 | LOSS: 2.0296456813812256| ACCURACY: 0.1875: 100%|██████████| 109/109 [01:54<00:00,  1.05s/it, loss=2.03]\n"
     ]
    },
    {
     "name": "stdout",
     "output_type": "stream",
     "text": [
      "Average Train Loss: 1.9007, Average Train Accuracy: 25.09%\n"
     ]
    },
    {
     "name": "stderr",
     "output_type": "stream",
     "text": [
      "100%|██████████| 27/27 [00:28<00:00,  1.05s/it]\n"
     ]
    },
    {
     "name": "stdout",
     "output_type": "stream",
     "text": [
      "Average Test Accuracy: 22.22%\n",
      "Model saved as /kaggle/working/ep-19-loss-1.901-acc-25.09.pth\n",
      "-------------------------------------------\n"
     ]
    },
    {
     "name": "stderr",
     "output_type": "stream",
     "text": [
      "EPOCH: 20 | ITERATION : 108/109 | LOSS: 1.8920254707336426| ACCURACY: 0.28125: 100%|██████████| 109/109 [01:53<00:00,  1.04s/it, loss=1.89]\n"
     ]
    },
    {
     "name": "stdout",
     "output_type": "stream",
     "text": [
      "Average Train Loss: 1.8829, Average Train Accuracy: 25.11%\n"
     ]
    },
    {
     "name": "stderr",
     "output_type": "stream",
     "text": [
      "100%|██████████| 27/27 [00:28<00:00,  1.05s/it]\n"
     ]
    },
    {
     "name": "stdout",
     "output_type": "stream",
     "text": [
      "Average Test Accuracy: 23.78%\n",
      "Model saved as /kaggle/working/ep-20-loss-1.883-acc-25.11.pth\n",
      "-------------------------------------------\n"
     ]
    },
    {
     "name": "stderr",
     "output_type": "stream",
     "text": [
      "EPOCH: 21 | ITERATION : 108/109 | LOSS: 1.8620177507400513| ACCURACY: 0.1875: 100%|██████████| 109/109 [01:54<00:00,  1.05s/it, loss=1.86]\n"
     ]
    },
    {
     "name": "stdout",
     "output_type": "stream",
     "text": [
      "Average Train Loss: 1.8804, Average Train Accuracy: 25.33%\n"
     ]
    },
    {
     "name": "stderr",
     "output_type": "stream",
     "text": [
      "100%|██████████| 27/27 [00:29<00:00,  1.08s/it]\n"
     ]
    },
    {
     "name": "stdout",
     "output_type": "stream",
     "text": [
      "Average Test Accuracy: 21.30%\n",
      "Model saved as /kaggle/working/ep-21-loss-1.880-acc-25.33.pth\n",
      "-------------------------------------------\n"
     ]
    },
    {
     "name": "stderr",
     "output_type": "stream",
     "text": [
      "EPOCH: 22 | ITERATION : 108/109 | LOSS: 2.083822011947632| ACCURACY: 0.203125: 100%|██████████| 109/109 [01:54<00:00,  1.05s/it, loss=2.08]\n"
     ]
    },
    {
     "name": "stdout",
     "output_type": "stream",
     "text": [
      "Average Train Loss: 1.8868, Average Train Accuracy: 24.86%\n"
     ]
    },
    {
     "name": "stderr",
     "output_type": "stream",
     "text": [
      "100%|██████████| 27/27 [00:28<00:00,  1.05s/it]\n"
     ]
    },
    {
     "name": "stdout",
     "output_type": "stream",
     "text": [
      "Average Test Accuracy: 22.05%\n",
      "Model saved as /kaggle/working/ep-22-loss-1.887-acc-24.86.pth\n",
      "-------------------------------------------\n"
     ]
    },
    {
     "name": "stderr",
     "output_type": "stream",
     "text": [
      "EPOCH: 23 | ITERATION : 108/109 | LOSS: 1.6918861865997314| ACCURACY: 0.375: 100%|██████████| 109/109 [01:53<00:00,  1.04s/it, loss=1.69]\n"
     ]
    },
    {
     "name": "stdout",
     "output_type": "stream",
     "text": [
      "Average Train Loss: 1.8710, Average Train Accuracy: 25.95%\n"
     ]
    },
    {
     "name": "stderr",
     "output_type": "stream",
     "text": [
      "100%|██████████| 27/27 [00:27<00:00,  1.03s/it]\n"
     ]
    },
    {
     "name": "stdout",
     "output_type": "stream",
     "text": [
      "Average Test Accuracy: 20.37%\n",
      "Model saved as /kaggle/working/ep-23-loss-1.871-acc-25.95.pth\n",
      "-------------------------------------------\n"
     ]
    },
    {
     "name": "stderr",
     "output_type": "stream",
     "text": [
      "EPOCH: 24 | ITERATION : 108/109 | LOSS: 2.034219741821289| ACCURACY: 0.1875: 100%|██████████| 109/109 [02:01<00:00,  1.12s/it, loss=2.03]\n"
     ]
    },
    {
     "name": "stdout",
     "output_type": "stream",
     "text": [
      "Average Train Loss: 1.8538, Average Train Accuracy: 26.40%\n"
     ]
    },
    {
     "name": "stderr",
     "output_type": "stream",
     "text": [
      "100%|██████████| 27/27 [00:30<00:00,  1.13s/it]\n"
     ]
    },
    {
     "name": "stdout",
     "output_type": "stream",
     "text": [
      "Average Test Accuracy: 19.79%\n",
      "Model saved as /kaggle/working/ep-24-loss-1.854-acc-26.40.pth\n",
      "-------------------------------------------\n"
     ]
    },
    {
     "name": "stderr",
     "output_type": "stream",
     "text": [
      "EPOCH: 25 | ITERATION : 108/109 | LOSS: 1.8035625219345093| ACCURACY: 0.28125: 100%|██████████| 109/109 [01:59<00:00,  1.09s/it, loss=1.8]\n"
     ]
    },
    {
     "name": "stdout",
     "output_type": "stream",
     "text": [
      "Average Train Loss: 1.8711, Average Train Accuracy: 25.44%\n"
     ]
    },
    {
     "name": "stderr",
     "output_type": "stream",
     "text": [
      "100%|██████████| 27/27 [00:29<00:00,  1.08s/it]\n"
     ]
    },
    {
     "name": "stdout",
     "output_type": "stream",
     "text": [
      "Average Test Accuracy: 24.19%\n",
      "Model saved as /kaggle/working/ep-25-loss-1.871-acc-25.44.pth\n",
      "-------------------------------------------\n"
     ]
    },
    {
     "name": "stderr",
     "output_type": "stream",
     "text": [
      "EPOCH: 26 | ITERATION : 108/109 | LOSS: 1.8189910650253296| ACCURACY: 0.25: 100%|██████████| 109/109 [02:01<00:00,  1.11s/it, loss=1.82]\n"
     ]
    },
    {
     "name": "stdout",
     "output_type": "stream",
     "text": [
      "Average Train Loss: 1.8549, Average Train Accuracy: 26.58%\n"
     ]
    },
    {
     "name": "stderr",
     "output_type": "stream",
     "text": [
      "100%|██████████| 27/27 [00:29<00:00,  1.10s/it]\n"
     ]
    },
    {
     "name": "stdout",
     "output_type": "stream",
     "text": [
      "Average Test Accuracy: 22.97%\n",
      "Model saved as /kaggle/working/ep-26-loss-1.855-acc-26.58.pth\n",
      "-------------------------------------------\n"
     ]
    },
    {
     "name": "stderr",
     "output_type": "stream",
     "text": [
      "EPOCH: 27 | ITERATION : 108/109 | LOSS: 2.058727502822876| ACCURACY: 0.234375: 100%|██████████| 109/109 [01:57<00:00,  1.08s/it, loss=2.06]\n"
     ]
    },
    {
     "name": "stdout",
     "output_type": "stream",
     "text": [
      "Average Train Loss: 1.8523, Average Train Accuracy: 26.06%\n"
     ]
    },
    {
     "name": "stderr",
     "output_type": "stream",
     "text": [
      "100%|██████████| 27/27 [00:29<00:00,  1.10s/it]\n"
     ]
    },
    {
     "name": "stdout",
     "output_type": "stream",
     "text": [
      "Average Test Accuracy: 22.16%\n",
      "Model saved as /kaggle/working/ep-27-loss-1.852-acc-26.06.pth\n",
      "-------------------------------------------\n"
     ]
    },
    {
     "name": "stderr",
     "output_type": "stream",
     "text": [
      "EPOCH: 28 | ITERATION : 108/109 | LOSS: 1.8677151203155518| ACCURACY: 0.265625: 100%|██████████| 109/109 [01:57<00:00,  1.08s/it, loss=1.87]\n"
     ]
    },
    {
     "name": "stdout",
     "output_type": "stream",
     "text": [
      "Average Train Loss: 1.8573, Average Train Accuracy: 25.11%\n"
     ]
    },
    {
     "name": "stderr",
     "output_type": "stream",
     "text": [
      "100%|██████████| 27/27 [00:30<00:00,  1.13s/it]\n"
     ]
    },
    {
     "name": "stdout",
     "output_type": "stream",
     "text": [
      "Average Test Accuracy: 23.15%\n",
      "Model saved as /kaggle/working/ep-28-loss-1.857-acc-25.11.pth\n",
      "-------------------------------------------\n"
     ]
    },
    {
     "name": "stderr",
     "output_type": "stream",
     "text": [
      "EPOCH: 29 | ITERATION : 108/109 | LOSS: 1.709424376487732| ACCURACY: 0.296875: 100%|██████████| 109/109 [01:58<00:00,  1.09s/it, loss=1.71]\n"
     ]
    },
    {
     "name": "stdout",
     "output_type": "stream",
     "text": [
      "Average Train Loss: 1.8344, Average Train Accuracy: 26.68%\n"
     ]
    },
    {
     "name": "stderr",
     "output_type": "stream",
     "text": [
      "100%|██████████| 27/27 [00:29<00:00,  1.08s/it]\n"
     ]
    },
    {
     "name": "stdout",
     "output_type": "stream",
     "text": [
      "Average Test Accuracy: 23.26%\n",
      "Model saved as /kaggle/working/ep-29-loss-1.834-acc-26.68.pth\n",
      "-------------------------------------------\n"
     ]
    },
    {
     "name": "stderr",
     "output_type": "stream",
     "text": [
      "EPOCH: 30 | ITERATION : 108/109 | LOSS: 1.5969780683517456| ACCURACY: 0.3125: 100%|██████████| 109/109 [01:58<00:00,  1.09s/it, loss=1.6]\n"
     ]
    },
    {
     "name": "stdout",
     "output_type": "stream",
     "text": [
      "Average Train Loss: 1.8402, Average Train Accuracy: 26.36%\n"
     ]
    },
    {
     "name": "stderr",
     "output_type": "stream",
     "text": [
      "100%|██████████| 27/27 [00:29<00:00,  1.09s/it]\n"
     ]
    },
    {
     "name": "stdout",
     "output_type": "stream",
     "text": [
      "Average Test Accuracy: 23.32%\n",
      "Model saved as /kaggle/working/ep-30-loss-1.840-acc-26.36.pth\n",
      "-------------------------------------------\n"
     ]
    },
    {
     "name": "stderr",
     "output_type": "stream",
     "text": [
      "EPOCH: 31 | ITERATION : 108/109 | LOSS: 1.7441147565841675| ACCURACY: 0.296875: 100%|██████████| 109/109 [02:00<00:00,  1.11s/it, loss=1.74]\n"
     ]
    },
    {
     "name": "stdout",
     "output_type": "stream",
     "text": [
      "Average Train Loss: 1.8409, Average Train Accuracy: 26.53%\n"
     ]
    },
    {
     "name": "stderr",
     "output_type": "stream",
     "text": [
      "100%|██████████| 27/27 [00:30<00:00,  1.13s/it]\n"
     ]
    },
    {
     "name": "stdout",
     "output_type": "stream",
     "text": [
      "Average Test Accuracy: 22.57%\n",
      "Model saved as /kaggle/working/ep-31-loss-1.841-acc-26.53.pth\n",
      "-------------------------------------------\n"
     ]
    },
    {
     "name": "stderr",
     "output_type": "stream",
     "text": [
      "EPOCH: 32 | ITERATION : 108/109 | LOSS: 1.8533120155334473| ACCURACY: 0.28125: 100%|██████████| 109/109 [01:57<00:00,  1.08s/it, loss=1.85]\n"
     ]
    },
    {
     "name": "stdout",
     "output_type": "stream",
     "text": [
      "Average Train Loss: 1.8413, Average Train Accuracy: 26.68%\n"
     ]
    },
    {
     "name": "stderr",
     "output_type": "stream",
     "text": [
      "100%|██████████| 27/27 [00:29<00:00,  1.09s/it]\n"
     ]
    },
    {
     "name": "stdout",
     "output_type": "stream",
     "text": [
      "Average Test Accuracy: 24.25%\n",
      "Model saved as /kaggle/working/ep-32-loss-1.841-acc-26.68.pth\n",
      "-------------------------------------------\n"
     ]
    },
    {
     "name": "stderr",
     "output_type": "stream",
     "text": [
      "EPOCH: 33 | ITERATION : 108/109 | LOSS: 1.7730860710144043| ACCURACY: 0.25: 100%|██████████| 109/109 [01:59<00:00,  1.10s/it, loss=1.77]\n"
     ]
    },
    {
     "name": "stdout",
     "output_type": "stream",
     "text": [
      "Average Train Loss: 1.8343, Average Train Accuracy: 26.69%\n"
     ]
    },
    {
     "name": "stderr",
     "output_type": "stream",
     "text": [
      "100%|██████████| 27/27 [00:29<00:00,  1.11s/it]\n"
     ]
    },
    {
     "name": "stdout",
     "output_type": "stream",
     "text": [
      "Average Test Accuracy: 23.03%\n",
      "Model saved as /kaggle/working/ep-33-loss-1.834-acc-26.69.pth\n",
      "-------------------------------------------\n"
     ]
    },
    {
     "name": "stderr",
     "output_type": "stream",
     "text": [
      "EPOCH: 34 | ITERATION : 108/109 | LOSS: 1.7085070610046387| ACCURACY: 0.421875: 100%|██████████| 109/109 [02:01<00:00,  1.12s/it, loss=1.71]\n"
     ]
    },
    {
     "name": "stdout",
     "output_type": "stream",
     "text": [
      "Average Train Loss: 1.8212, Average Train Accuracy: 26.94%\n"
     ]
    },
    {
     "name": "stderr",
     "output_type": "stream",
     "text": [
      "100%|██████████| 27/27 [00:31<00:00,  1.15s/it]\n"
     ]
    },
    {
     "name": "stdout",
     "output_type": "stream",
     "text": [
      "Average Test Accuracy: 21.30%\n",
      "Model saved as /kaggle/working/ep-34-loss-1.821-acc-26.94.pth\n",
      "-------------------------------------------\n"
     ]
    },
    {
     "name": "stderr",
     "output_type": "stream",
     "text": [
      "EPOCH: 35 | ITERATION : 108/109 | LOSS: 1.8162827491760254| ACCURACY: 0.296875: 100%|██████████| 109/109 [02:05<00:00,  1.15s/it, loss=1.82]\n"
     ]
    },
    {
     "name": "stdout",
     "output_type": "stream",
     "text": [
      "Average Train Loss: 1.8236, Average Train Accuracy: 27.59%\n"
     ]
    },
    {
     "name": "stderr",
     "output_type": "stream",
     "text": [
      "100%|██████████| 27/27 [00:31<00:00,  1.17s/it]\n"
     ]
    },
    {
     "name": "stdout",
     "output_type": "stream",
     "text": [
      "Average Test Accuracy: 22.28%\n",
      "Model saved as /kaggle/working/ep-35-loss-1.824-acc-27.59.pth\n",
      "-------------------------------------------\n"
     ]
    },
    {
     "name": "stderr",
     "output_type": "stream",
     "text": [
      "EPOCH: 36 | ITERATION : 108/109 | LOSS: 1.7168649435043335| ACCURACY: 0.328125: 100%|██████████| 109/109 [02:05<00:00,  1.15s/it, loss=1.72]\n"
     ]
    },
    {
     "name": "stdout",
     "output_type": "stream",
     "text": [
      "Average Train Loss: 1.8215, Average Train Accuracy: 27.14%\n"
     ]
    },
    {
     "name": "stderr",
     "output_type": "stream",
     "text": [
      "100%|██████████| 27/27 [00:30<00:00,  1.13s/it]\n"
     ]
    },
    {
     "name": "stdout",
     "output_type": "stream",
     "text": [
      "Average Test Accuracy: 24.71%\n",
      "Model saved as /kaggle/working/ep-36-loss-1.822-acc-27.14.pth\n",
      "-------------------------------------------\n"
     ]
    },
    {
     "name": "stderr",
     "output_type": "stream",
     "text": [
      "EPOCH: 37 | ITERATION : 108/109 | LOSS: 1.6608554124832153| ACCURACY: 0.390625: 100%|██████████| 109/109 [02:04<00:00,  1.14s/it, loss=1.66]\n"
     ]
    },
    {
     "name": "stdout",
     "output_type": "stream",
     "text": [
      "Average Train Loss: 1.8188, Average Train Accuracy: 27.58%\n"
     ]
    },
    {
     "name": "stderr",
     "output_type": "stream",
     "text": [
      "100%|██████████| 27/27 [00:30<00:00,  1.13s/it]\n"
     ]
    },
    {
     "name": "stdout",
     "output_type": "stream",
     "text": [
      "Average Test Accuracy: 22.86%\n",
      "Model saved as /kaggle/working/ep-37-loss-1.819-acc-27.58.pth\n",
      "-------------------------------------------\n"
     ]
    },
    {
     "name": "stderr",
     "output_type": "stream",
     "text": [
      "EPOCH: 38 | ITERATION : 108/109 | LOSS: 1.7994593381881714| ACCURACY: 0.21875: 100%|██████████| 109/109 [02:01<00:00,  1.12s/it, loss=1.8]\n"
     ]
    },
    {
     "name": "stdout",
     "output_type": "stream",
     "text": [
      "Average Train Loss: 1.8186, Average Train Accuracy: 27.42%\n"
     ]
    },
    {
     "name": "stderr",
     "output_type": "stream",
     "text": [
      "100%|██████████| 27/27 [00:30<00:00,  1.12s/it]\n"
     ]
    },
    {
     "name": "stdout",
     "output_type": "stream",
     "text": [
      "Average Test Accuracy: 22.05%\n",
      "Model saved as /kaggle/working/ep-38-loss-1.819-acc-27.42.pth\n",
      "-------------------------------------------\n"
     ]
    },
    {
     "name": "stderr",
     "output_type": "stream",
     "text": [
      "EPOCH: 39 | ITERATION : 108/109 | LOSS: 1.782077431678772| ACCURACY: 0.34375: 100%|██████████| 109/109 [02:03<00:00,  1.13s/it, loss=1.78]\n"
     ]
    },
    {
     "name": "stdout",
     "output_type": "stream",
     "text": [
      "Average Train Loss: 1.8200, Average Train Accuracy: 27.31%\n"
     ]
    },
    {
     "name": "stderr",
     "output_type": "stream",
     "text": [
      "100%|██████████| 27/27 [00:30<00:00,  1.13s/it]\n"
     ]
    },
    {
     "name": "stdout",
     "output_type": "stream",
     "text": [
      "Average Test Accuracy: 22.86%\n",
      "Model saved as /kaggle/working/ep-39-loss-1.820-acc-27.31.pth\n",
      "-------------------------------------------\n"
     ]
    },
    {
     "name": "stderr",
     "output_type": "stream",
     "text": [
      "EPOCH: 40 | ITERATION : 108/109 | LOSS: 1.9484754800796509| ACCURACY: 0.171875: 100%|██████████| 109/109 [02:03<00:00,  1.13s/it, loss=1.95]\n"
     ]
    },
    {
     "name": "stdout",
     "output_type": "stream",
     "text": [
      "Average Train Loss: 1.8425, Average Train Accuracy: 26.69%\n"
     ]
    },
    {
     "name": "stderr",
     "output_type": "stream",
     "text": [
      "100%|██████████| 27/27 [00:30<00:00,  1.15s/it]\n"
     ]
    },
    {
     "name": "stdout",
     "output_type": "stream",
     "text": [
      "Average Test Accuracy: 22.80%\n",
      "Model saved as /kaggle/working/ep-40-loss-1.842-acc-26.69.pth\n",
      "-------------------------------------------\n"
     ]
    },
    {
     "name": "stderr",
     "output_type": "stream",
     "text": [
      "EPOCH: 41 | ITERATION : 108/109 | LOSS: 1.8584884405136108| ACCURACY: 0.25: 100%|██████████| 109/109 [02:03<00:00,  1.14s/it, loss=1.86]\n"
     ]
    },
    {
     "name": "stdout",
     "output_type": "stream",
     "text": [
      "Average Train Loss: 1.8260, Average Train Accuracy: 27.59%\n"
     ]
    },
    {
     "name": "stderr",
     "output_type": "stream",
     "text": [
      "100%|██████████| 27/27 [00:31<00:00,  1.15s/it]\n"
     ]
    },
    {
     "name": "stdout",
     "output_type": "stream",
     "text": [
      "Average Test Accuracy: 21.99%\n",
      "Model saved as /kaggle/working/ep-41-loss-1.826-acc-27.59.pth\n",
      "-------------------------------------------\n"
     ]
    },
    {
     "name": "stderr",
     "output_type": "stream",
     "text": [
      "EPOCH: 42 | ITERATION : 108/109 | LOSS: 1.7227147817611694| ACCURACY: 0.328125: 100%|██████████| 109/109 [02:03<00:00,  1.13s/it, loss=1.72]\n"
     ]
    },
    {
     "name": "stdout",
     "output_type": "stream",
     "text": [
      "Average Train Loss: 1.8156, Average Train Accuracy: 27.31%\n"
     ]
    },
    {
     "name": "stderr",
     "output_type": "stream",
     "text": [
      "100%|██████████| 27/27 [00:31<00:00,  1.15s/it]\n"
     ]
    },
    {
     "name": "stdout",
     "output_type": "stream",
     "text": [
      "Average Test Accuracy: 24.36%\n",
      "Model saved as /kaggle/working/ep-42-loss-1.816-acc-27.31.pth\n",
      "-------------------------------------------\n"
     ]
    },
    {
     "name": "stderr",
     "output_type": "stream",
     "text": [
      "EPOCH: 43 | ITERATION : 108/109 | LOSS: 1.8967339992523193| ACCURACY: 0.234375: 100%|██████████| 109/109 [02:03<00:00,  1.13s/it, loss=1.9]\n"
     ]
    },
    {
     "name": "stdout",
     "output_type": "stream",
     "text": [
      "Average Train Loss: 1.8132, Average Train Accuracy: 27.38%\n"
     ]
    },
    {
     "name": "stderr",
     "output_type": "stream",
     "text": [
      "100%|██████████| 27/27 [00:30<00:00,  1.15s/it]\n"
     ]
    },
    {
     "name": "stdout",
     "output_type": "stream",
     "text": [
      "Average Test Accuracy: 23.32%\n",
      "Model saved as /kaggle/working/ep-43-loss-1.813-acc-27.38.pth\n",
      "-------------------------------------------\n"
     ]
    },
    {
     "name": "stderr",
     "output_type": "stream",
     "text": [
      "EPOCH: 44 | ITERATION : 108/109 | LOSS: 1.7865116596221924| ACCURACY: 0.28125: 100%|██████████| 109/109 [02:04<00:00,  1.14s/it, loss=1.79]\n"
     ]
    },
    {
     "name": "stdout",
     "output_type": "stream",
     "text": [
      "Average Train Loss: 1.8177, Average Train Accuracy: 27.09%\n"
     ]
    },
    {
     "name": "stderr",
     "output_type": "stream",
     "text": [
      "100%|██████████| 27/27 [00:30<00:00,  1.15s/it]\n"
     ]
    },
    {
     "name": "stdout",
     "output_type": "stream",
     "text": [
      "Average Test Accuracy: 22.63%\n",
      "Model saved as /kaggle/working/ep-44-loss-1.818-acc-27.09.pth\n",
      "-------------------------------------------\n"
     ]
    },
    {
     "name": "stderr",
     "output_type": "stream",
     "text": [
      "EPOCH: 45 | ITERATION : 108/109 | LOSS: 1.7692104578018188| ACCURACY: 0.28125: 100%|██████████| 109/109 [02:05<00:00,  1.16s/it, loss=1.77]\n"
     ]
    },
    {
     "name": "stdout",
     "output_type": "stream",
     "text": [
      "Average Train Loss: 1.8094, Average Train Accuracy: 28.21%\n"
     ]
    },
    {
     "name": "stderr",
     "output_type": "stream",
     "text": [
      "100%|██████████| 27/27 [00:31<00:00,  1.16s/it]\n"
     ]
    },
    {
     "name": "stdout",
     "output_type": "stream",
     "text": [
      "Average Test Accuracy: 23.32%\n",
      "Model saved as /kaggle/working/ep-45-loss-1.809-acc-28.21.pth\n",
      "-------------------------------------------\n"
     ]
    },
    {
     "name": "stderr",
     "output_type": "stream",
     "text": [
      "EPOCH: 46 | ITERATION : 108/109 | LOSS: 1.8244744539260864| ACCURACY: 0.25: 100%|██████████| 109/109 [02:02<00:00,  1.13s/it, loss=1.82]\n"
     ]
    },
    {
     "name": "stdout",
     "output_type": "stream",
     "text": [
      "Average Train Loss: 1.7994, Average Train Accuracy: 28.21%\n"
     ]
    },
    {
     "name": "stderr",
     "output_type": "stream",
     "text": [
      "100%|██████████| 27/27 [00:30<00:00,  1.14s/it]\n"
     ]
    },
    {
     "name": "stdout",
     "output_type": "stream",
     "text": [
      "Average Test Accuracy: 25.06%\n",
      "Model saved as /kaggle/working/ep-46-loss-1.799-acc-28.21.pth\n",
      "-------------------------------------------\n"
     ]
    },
    {
     "name": "stderr",
     "output_type": "stream",
     "text": [
      "EPOCH: 47 | ITERATION : 108/109 | LOSS: 1.664491891860962| ACCURACY: 0.34375: 100%|██████████| 109/109 [02:04<00:00,  1.14s/it, loss=1.66]\n"
     ]
    },
    {
     "name": "stdout",
     "output_type": "stream",
     "text": [
      "Average Train Loss: 1.8082, Average Train Accuracy: 27.85%\n"
     ]
    },
    {
     "name": "stderr",
     "output_type": "stream",
     "text": [
      "100%|██████████| 27/27 [00:30<00:00,  1.12s/it]\n"
     ]
    },
    {
     "name": "stdout",
     "output_type": "stream",
     "text": [
      "Average Test Accuracy: 23.26%\n",
      "Model saved as /kaggle/working/ep-47-loss-1.808-acc-27.85.pth\n",
      "-------------------------------------------\n"
     ]
    },
    {
     "name": "stderr",
     "output_type": "stream",
     "text": [
      "EPOCH: 48 | ITERATION : 108/109 | LOSS: 1.9819910526275635| ACCURACY: 0.265625: 100%|██████████| 109/109 [02:00<00:00,  1.10s/it, loss=1.98]\n"
     ]
    },
    {
     "name": "stdout",
     "output_type": "stream",
     "text": [
      "Average Train Loss: 1.8085, Average Train Accuracy: 28.18%\n"
     ]
    },
    {
     "name": "stderr",
     "output_type": "stream",
     "text": [
      "100%|██████████| 27/27 [00:30<00:00,  1.12s/it]\n"
     ]
    },
    {
     "name": "stdout",
     "output_type": "stream",
     "text": [
      "Average Test Accuracy: 23.15%\n",
      "Model saved as /kaggle/working/ep-48-loss-1.808-acc-28.18.pth\n",
      "-------------------------------------------\n"
     ]
    },
    {
     "name": "stderr",
     "output_type": "stream",
     "text": [
      "EPOCH: 49 | ITERATION : 108/109 | LOSS: 1.738391399383545| ACCURACY: 0.296875: 100%|██████████| 109/109 [02:01<00:00,  1.11s/it, loss=1.74]\n"
     ]
    },
    {
     "name": "stdout",
     "output_type": "stream",
     "text": [
      "Average Train Loss: 1.8050, Average Train Accuracy: 28.27%\n"
     ]
    },
    {
     "name": "stderr",
     "output_type": "stream",
     "text": [
      "100%|██████████| 27/27 [00:30<00:00,  1.14s/it]\n"
     ]
    },
    {
     "name": "stdout",
     "output_type": "stream",
     "text": [
      "Average Test Accuracy: 25.64%\n",
      "Model saved as /kaggle/working/ep-49-loss-1.805-acc-28.27.pth\n",
      "-------------------------------------------\n"
     ]
    },
    {
     "name": "stderr",
     "output_type": "stream",
     "text": [
      "EPOCH: 50 | ITERATION : 108/109 | LOSS: 1.9126222133636475| ACCURACY: 0.234375: 100%|██████████| 109/109 [02:03<00:00,  1.13s/it, loss=1.91]\n"
     ]
    },
    {
     "name": "stdout",
     "output_type": "stream",
     "text": [
      "Average Train Loss: 1.8072, Average Train Accuracy: 27.75%\n"
     ]
    },
    {
     "name": "stderr",
     "output_type": "stream",
     "text": [
      "100%|██████████| 27/27 [00:31<00:00,  1.16s/it]"
     ]
    },
    {
     "name": "stdout",
     "output_type": "stream",
     "text": [
      "Average Test Accuracy: 22.92%\n",
      "Model saved as /kaggle/working/ep-50-loss-1.807-acc-27.75.pth\n",
      "-------------------------------------------\n",
      "Finished Training\n"
     ]
    },
    {
     "name": "stderr",
     "output_type": "stream",
     "text": [
      "\n"
     ]
    }
   ],
   "source": [
    "def main():\n",
    "    \n",
    "    model = ModelLSTM(n_feature=801, out_feature = OUT_FEATURE).to(device)\n",
    "    optimizer = torch.optim.AdamW(model.parameters())\n",
    "\n",
    "    for epoch in range(EPOCH):\n",
    "        avg_train_loss, avg_train_acc = train(train_loader, model, epoch, optimizer, device)\n",
    "        avg_test_acc = test(test_loader, model, device)\n",
    "        filename = f\"{SAVE_PATH}ep-{epoch+1}-loss-{avg_train_loss:.3f}-acc-{avg_train_acc:.2f}.pth\"\n",
    "        torch.save(model.state_dict(), filename)\n",
    "        print(f\"Model saved as {filename}\")\n",
    "        print('-------------------------------------------')\n",
    "    print('Finished Training')\n",
    "\n",
    "if __name__ == \"__main__\":\n",
    "    main()"
   ]
  }
 ],
 "metadata": {
  "kaggle": {
   "accelerator": "gpu",
   "dataSources": [
    {
     "datasetId": 500970,
     "sourceId": 928025,
     "sourceType": "datasetVersion"
    }
   ],
   "dockerImageVersionId": 30746,
   "isGpuEnabled": true,
   "isInternetEnabled": true,
   "language": "python",
   "sourceType": "notebook"
  },
  "kernelspec": {
   "display_name": "Python 3",
   "language": "python",
   "name": "python3"
  },
  "language_info": {
   "codemirror_mode": {
    "name": "ipython",
    "version": 3
   },
   "file_extension": ".py",
   "mimetype": "text/x-python",
   "name": "python",
   "nbconvert_exporter": "python",
   "pygments_lexer": "ipython3",
   "version": "3.10.13"
  },
  "papermill": {
   "default_parameters": {},
   "duration": 7591.91734,
   "end_time": "2024-08-15T22:55:27.876984",
   "environment_variables": {},
   "exception": null,
   "input_path": "__notebook__.ipynb",
   "output_path": "__notebook__.ipynb",
   "parameters": {},
   "start_time": "2024-08-15T20:48:55.959644",
   "version": "2.5.0"
  }
 },
 "nbformat": 4,
 "nbformat_minor": 5
}

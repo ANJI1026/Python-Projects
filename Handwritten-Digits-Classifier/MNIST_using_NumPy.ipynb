{
  "nbformat": 4,
  "nbformat_minor": 0,
  "metadata": {
    "colab": {
      "provenance": []
    },
    "kernelspec": {
      "name": "python3",
      "display_name": "Python 3"
    },
    "language_info": {
      "name": "python"
    }
  },
  "cells": [
    {
      "cell_type": "code",
      "execution_count": null,
      "metadata": {
        "id": "eyUNepiXopug"
      },
      "outputs": [],
      "source": [
        "import numpy as np\n",
        "import pandas as pd\n",
        "from matplotlib import pyplot as plt"
      ]
    },
    {
      "cell_type": "code",
      "source": [
        "data_train = pd.read_csv('/content/train.csv')\n",
        "data_test = pd.read_csv('/content/test.csv')"
      ],
      "metadata": {
        "id": "ixHFyICDs57d"
      },
      "execution_count": null,
      "outputs": []
    },
    {
      "cell_type": "code",
      "source": [
        "\n",
        "train_set = np.array(data_train).T\n",
        "n,m = train_set.shape\n",
        "print(n,m)\n",
        "# no of training examples to use :\n",
        "# m = 19999\n",
        "np.random.shuffle(train_set.T) ## important so that the network isnt biased\n",
        "Y_train = train_set[0,:m].reshape(1,m).astype(int)\n",
        "# Y_train = train_set[0]\n",
        "X_train = train_set[1:n,:m]\n",
        "X_train = X_train / 255\n",
        "\n",
        "print(Y_train.shape)\n",
        "print(X_train.shape) #1 column is a single training example\n",
        "\n",
        "test_set = np.array(data_test).T\n",
        "p,q = test_set.shape\n",
        "print(p,q)\n",
        "\n",
        "# Y_test = test_set[0].reshape(1,q)\n",
        "Y_test = test_set[0,:q].reshape(1,q).astype(int)\n",
        "X_test = test_set[0:p,:q] / 255\n",
        "\n"
      ],
      "metadata": {
        "colab": {
          "base_uri": "https://localhost:8080/"
        },
        "id": "o45m3RcktPZo",
        "outputId": "1276fabb-dbee-4765-d3de-767aee7e57bd"
      },
      "execution_count": null,
      "outputs": [
        {
          "output_type": "stream",
          "name": "stdout",
          "text": [
            "785 42000\n",
            "(1, 42000)\n",
            "(784, 42000)\n",
            "784 28000\n"
          ]
        }
      ]
    },
    {
      "cell_type": "code",
      "source": [
        "Y_test.shape\n",
        "print(np.unique(Y_test))"
      ],
      "metadata": {
        "colab": {
          "base_uri": "https://localhost:8080/"
        },
        "id": "0ZhuKK37eEOv",
        "outputId": "d4664aa2-f182-4ed9-9e51-f5c9edd2053c"
      },
      "execution_count": null,
      "outputs": [
        {
          "output_type": "stream",
          "name": "stdout",
          "text": [
            "[0]\n"
          ]
        }
      ]
    },
    {
      "cell_type": "code",
      "source": [
        "print(Y_train)\n",
        "print(X_train)\n",
        "plt.show()\n",
        "plt.imshow(X_train[:,0].reshape(28,28),cmap='gray')\n",
        "plt.show()\n"
      ],
      "metadata": {
        "colab": {
          "base_uri": "https://localhost:8080/",
          "height": 569
        },
        "id": "2WfiGr3oXioe",
        "outputId": "460bdb88-8c3a-473d-fd81-e2c528a39060"
      },
      "execution_count": null,
      "outputs": [
        {
          "output_type": "stream",
          "name": "stdout",
          "text": [
            "[[6 8 6 ... 7 1 0]]\n",
            "[[0. 0. 0. ... 0. 0. 0.]\n",
            " [0. 0. 0. ... 0. 0. 0.]\n",
            " [0. 0. 0. ... 0. 0. 0.]\n",
            " ...\n",
            " [0. 0. 0. ... 0. 0. 0.]\n",
            " [0. 0. 0. ... 0. 0. 0.]\n",
            " [0. 0. 0. ... 0. 0. 0.]]\n"
          ]
        },
        {
          "output_type": "display_data",
          "data": {
            "text/plain": [
              "<Figure size 640x480 with 1 Axes>"
            ],
            "image/png": "[encoded data removed]"
          },
          "metadata": {}
        }
      ]
    },
    {
      "cell_type": "code",
      "source": [
        "def init_params():\n",
        "  W1 = np.random.randn(10,784) * 0.01\n",
        "  b1 = np.zeros([10,1])\n",
        "  W2 = np.random.randn(10,10) *0.01\n",
        "  b2 = np.zeros([10,1])\n",
        "  return W1, b1, W2, b2\n",
        "\n",
        "\n",
        "def relu(Z):\n",
        "  return np.maximum(0,Z)\n",
        "\n",
        "def relu_d(Z):\n",
        "  return Z > 0\n",
        "def softmax(Z):\n",
        "  A = np.exp(Z) / sum(np.exp(Z))\n",
        "  return A\n",
        "\n",
        "def forward_propagation(W1, b1, W2, b2, X):\n",
        "  Z1 = np.dot(W1,X) + b1 # (10 , m)\n",
        "  A1 = relu(Z1)           #(10, m)\n",
        "  Z2 = np.dot(W2,A1) + b2  # also (10,m)\n",
        "  A2 = softmax(Z2)\n",
        "  return Z1, A1, Z2, A2\n",
        "\n",
        "def backward_propagation(Z1,A1,Z2,A2,W2,X,Y):\n",
        "  #since dZ2 = A2 - Y but Y is a (1,19999)\n",
        "  #so we subtract 1 from the specific index\n",
        "  m = Y.shape[1]\n",
        "  dZ2 = A2.copy()\n",
        "  dZ2[Y,np.arange(Y.shape[1])] -= 1\n",
        "\n",
        "  dW2 = (1 / m)* np.dot(dZ2,A1.T)\n",
        "  db2 = (1 / m) * np.sum(dZ2)\n",
        "\n",
        "  dZ1 = np.dot(W2.T, dZ2) * relu_d(Z1)\n",
        "  dW1 = (1 / m) * np.dot(dZ1,X.T)\n",
        "  db1 = (1 / m) * np.sum(dZ1)\n",
        "\n",
        "  return dW1, db1, dW2, db2\n"
      ],
      "metadata": {
        "id": "-uTPxMILt2fJ"
      },
      "execution_count": null,
      "outputs": []
    },
    {
      "cell_type": "code",
      "source": [
        "def prediction(A2):\n",
        "  # print(A2.shape[1])\n",
        "  return np.argmax(A2,0) ## returns the index for max along column\n",
        "\n",
        "def accuracy(predictions, Y):\n",
        "  return np.sum(predictions == Y) / Y.size\n",
        "\n",
        "def gradient_descent(X, Y, iterations, learning_rate):\n",
        "  W1, b1, W2, b2 = init_params()\n",
        "  for i in range(iterations):\n",
        "    Z1, A1, Z2, A2 = forward_propagation(W1, b1, W2, b2, X)\n",
        "    dW1, db1, dW2, db2 = backward_propagation(Z1,A1,Z2,A2,W2,X,Y)\n",
        "\n",
        "    #updating parameters\n",
        "    W1 = W1 - learning_rate * dW1\n",
        "    b1 = b1 - learning_rate * db1\n",
        "    W2 = W2 - learning_rate * dW2\n",
        "    b2 = b2 - learning_rate * db2\n",
        "\n",
        "\n",
        "    if i % 100 == 0:\n",
        "      print(\"Iteration: \", i)\n",
        "      predictions = prediction(A2)\n",
        "      print(\"Accuracy: \", accuracy(predictions, Y))\n",
        "\n",
        "\n",
        "  return W1, b1, W2, b2"
      ],
      "metadata": {
        "id": "xiGhWyPT0ZTM"
      },
      "execution_count": null,
      "outputs": []
    },
    {
      "cell_type": "code",
      "source": [
        "W1, b1, W2, b2 = gradient_descent(X_train, Y_train, 1000, 0.1)\n",
        "\n"
      ],
      "metadata": {
        "colab": {
          "base_uri": "https://localhost:8080/"
        },
        "id": "g9t8d3xCm4QI",
        "outputId": "d7a5bdf3-95b3-4836-95f0-6b8081bea939"
      },
      "execution_count": null,
      "outputs": [
        {
          "output_type": "stream",
          "name": "stdout",
          "text": [
            "Iteration:  0\n",
            "Accuracy:  0.08721428571428572\n",
            "Iteration:  100\n",
            "Accuracy:  0.5381190476190476\n",
            "Iteration:  200\n",
            "Accuracy:  0.8115238095238095\n",
            "Iteration:  300\n",
            "Accuracy:  0.8603095238095239\n",
            "Iteration:  400\n",
            "Accuracy:  0.881547619047619\n",
            "Iteration:  500\n",
            "Accuracy:  0.8917142857142857\n",
            "Iteration:  600\n",
            "Accuracy:  0.8991428571428571\n",
            "Iteration:  700\n",
            "Accuracy:  0.9038809523809523\n",
            "Iteration:  800\n",
            "Accuracy:  0.9086904761904762\n",
            "Iteration:  900\n",
            "Accuracy:  0.9122857142857143\n"
          ]
        }
      ]
    },
    {
      "cell_type": "code",
      "source": [
        "## now the test accuracy\n",
        "def predict(X, W1, b1, W2, b2):\n",
        "  Z1, A1, Z2, A2 = forward_propagation(W1, b1, W2, b2, X)\n",
        "  predictions = prediction(A2)\n",
        "  return predictions\n",
        "Z1, A1, Z2, A2 = forward_propagation(W1, b1, W2, b2, X_test)\n",
        "predictions = prediction(A2)\n",
        "print(\"Test Accuracy: \", accuracy(predictions, Y_test))\n"
      ],
      "metadata": {
        "colab": {
          "base_uri": "https://localhost:8080/"
        },
        "id": "DYYPDvUUnlo9",
        "outputId": "261f4fce-45af-4499-e3dd-a68055e725cc"
      },
      "execution_count": null,
      "outputs": [
        {
          "output_type": "stream",
          "name": "stdout",
          "text": [
            "Test Accuracy:  0.09946428571428571\n"
          ]
        }
      ]
    },
    {
      "cell_type": "code",
      "source": [
        "# let's visualize\n",
        "def test_predict(i, W1, b1, W2, b2):\n",
        "  image = X_test[:,i].reshape(784,1)\n",
        "  # print(image.shape)\n",
        "  prediction = predict(image,W1, b1, W2, b2)\n",
        "  # print(prediction.shape)\n",
        "  label = Y_test[0,i]\n",
        "  print(\"Prediction: \", prediction)\n",
        "  print(\"Label: \", label)\n",
        "\n",
        "  plt.gray()\n",
        "  plt.imshow(image.reshape(28,28))\n",
        "  plt.show()\n",
        "\n",
        "test_predict(106,W1, b1, W2, b2)\n",
        "test_predict(10,W1, b1, W2, b2)\n",
        "test_predict(999,W1, b1, W2, b2)\n",
        "test_predict(180,W1, b1, W2, b2)\n",
        "test_predict(330,W1, b1, W2, b2)\n",
        "\n"
      ],
      "metadata": {
        "colab": {
          "base_uri": "https://localhost:8080/",
          "height": 1000
        },
        "id": "4F1W88sqvAsv",
        "outputId": "f19d0bc0-1c89-45dd-8bb8-91fda9c85d19"
      },
      "execution_count": null,
      "outputs": [
        {
          "output_type": "stream",
          "name": "stdout",
          "text": [
            "Prediction:  [0]\n",
            "Label:  0\n"
          ]
        },
        {
          "output_type": "display_data",
          "data": {
            "text/plain": [
              "<Figure size 640x480 with 1 Axes>"
            ],
            "image/png": "[encoded data removed]"
          },
          "metadata": {}
        },
        {
          "output_type": "stream",
          "name": "stdout",
          "text": [
            "Prediction:  [5]\n",
            "Label:  0\n"
          ]
        },
        {
          "output_type": "display_data",
          "data": {
            "text/plain": [
              "<Figure size 640x480 with 1 Axes>"
            ],
            "image/png": "[encoded data removed]"
          },
          "metadata": {}
        },
        {
          "output_type": "stream",
          "name": "stdout",
          "text": [
            "Prediction:  [9]\n",
            "Label:  0\n"
          ]
        },
        {
          "output_type": "display_data",
          "data": {
            "text/plain": [
              "<Figure size 640x480 with 1 Axes>"
            ],
            "image/png": "[encoded data removed]"
          },
          "metadata": {}
        },
        {
          "output_type": "stream",
          "name": "stdout",
          "text": [
            "Prediction:  [4]\n",
            "Label:  0\n"
          ]
        },
        {
          "output_type": "display_data",
          "data": {
            "text/plain": [
              "<Figure size 640x480 with 1 Axes>"
            ],
            "image/png": "[encoded data removed]"
          },
          "metadata": {}
        },
        {
          "output_type": "stream",
          "name": "stdout",
          "text": [
            "Prediction:  [6]\n",
            "Label:  0\n"
          ]
        },
        {
          "output_type": "display_data",
          "data": {
            "text/plain": [
              "<Figure size 640x480 with 1 Axes>"
            ],
            "image/png": "[encoded data removed]"
          },
          "metadata": {}
        }
      ]
    },
    {
      "cell_type": "code",
      "source": [],
      "metadata": {
        "id": "7RGXIc_fxdV6"
      },
      "execution_count": null,
      "outputs": []
    }
  ]
}